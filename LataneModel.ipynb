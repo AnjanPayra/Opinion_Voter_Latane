{
  "cells": [
    {
      "cell_type": "markdown",
      "metadata": {
        "id": "view-in-github",
        "colab_type": "text"
      },
      "source": [
        "<a href=\"https://colab.research.google.com/github/AnjanPayra/Opinion_Voter_Latane/blob/main/LataneModel.ipynb\" target=\"_parent\"><img src=\"https://colab.research.google.com/assets/colab-badge.svg\" alt=\"Open In Colab\"/></a>"
      ]
    },
    {
      "cell_type": "markdown",
      "metadata": {
        "id": "yiQ58iomzmPi"
      },
      "source": [
        "## **Import necessary libraries**"
      ]
    },
    {
      "cell_type": "code",
      "execution_count": null,
      "metadata": {
        "id": "psUXx0UczWS_"
      },
      "outputs": [],
      "source": [
        "import numpy as np\n",
        "np.random.seed(42)\n",
        "import matplotlib.pyplot as plt\n",
        "import matplotlib.colors as mcolors\n",
        "import random\n",
        "import copy\n",
        "import math"
      ]
    },
    {
      "cell_type": "markdown",
      "metadata": {
        "id": "-9cxPtVcSxo6"
      },
      "source": [
        "## **Helper Functions**"
      ]
    },
    {
      "cell_type": "markdown",
      "metadata": {
        "id": "KWw35qZe0AjQ"
      },
      "source": [
        "A helper function : this is used for visualizing the population of agents."
      ]
    },
    {
      "cell_type": "code",
      "execution_count": null,
      "metadata": {
        "id": "PFm8TakTPItG"
      },
      "outputs": [],
      "source": [
        "def plot_opinions(lattice, title=\"Opinion Distribution\", cmap=None, norm=None):\n",
        "  \"\"\"Plot the current state of the lattice with opinion values inside the boxes.\"\"\"\n",
        "  fig, ax = plt.subplots(figsize=(8, 8))\n",
        "  cax = ax.imshow(lattice, cmap=cmap, norm=norm)\n",
        "  ax.set_xticks(np.arange(-0.5, lattice.shape[1], 1), minor=True)\n",
        "  ax.set_yticks(np.arange(-0.5, lattice.shape[0], 1), minor=True)\n",
        "  ax.grid(which=\"minor\", color=\"black\", linestyle=\"-\", linewidth=0.5)\n",
        "  ax.tick_params(which=\"both\", bottom=False, left=False, labelbottom=False, labelleft=False)\n",
        "\n",
        "  # Adding a color bar\n",
        "  plt.colorbar(cax, label=\"Opinion Value\")\n",
        "\n",
        "  # Annotating each agent with its current opinion\n",
        "  for i in range(lattice.shape[0]):\n",
        "    for j in range(lattice.shape[1]):\n",
        "      ax.text(j, i, str(lattice[i, j]), ha='center', va='center', color='black', fontsize=8)\n",
        "\n",
        "  plt.title(title)\n",
        "  plt.show()"
      ]
    },
    {
      "cell_type": "code",
      "execution_count": null,
      "metadata": {
        "id": "hcrm9DFQ7Q5D"
      },
      "outputs": [],
      "source": [
        "def display_matrix(lattice, title):\n",
        "  \"\"\"\n",
        "  Displays a single lattice with a color gradient, grid lines, and annotations for each value.\n",
        "\n",
        "  Parameters:\n",
        "  - lattice: 2D NumPy array representing the lattice to be displayed.\n",
        "  - title: Optional; title for the plot.\n",
        "  \"\"\"\n",
        "  plt.figure(figsize=(6, 6))\n",
        "  im = plt.imshow(lattice, cmap='viridis', interpolation='nearest')\n",
        "  plt.colorbar(label='Value')\n",
        "  plt.title(title)\n",
        "\n",
        "  # Add grid lines\n",
        "  plt.grid(color='black', linestyle='-', linewidth=0.5)\n",
        "  plt.xticks(np.arange(-0.5, lattice.shape[1], 1), [])\n",
        "  plt.yticks(np.arange(-0.5, lattice.shape[0], 1), [])\n",
        "  plt.gca().set_xticks(np.arange(-0.5, lattice.shape[1], 1), minor=True)\n",
        "  plt.gca().set_yticks(np.arange(-0.5, lattice.shape[0], 1), minor=True)\n",
        "  plt.grid(which=\"minor\", color=\"black\", linestyle='-', linewidth=0.5)\n",
        "\n",
        "  # Annotate each cell with its value\n",
        "  for i in range(lattice.shape[0]):\n",
        "      for j in range(lattice.shape[1]):\n",
        "          value = lattice[i, j]\n",
        "          plt.text(j, i, f'{value:.2f}', ha='center', va='center', color='white', fontsize=8)\n",
        "\n",
        "  plt.show()"
      ]
    },
    {
      "cell_type": "markdown",
      "metadata": {
        "id": "Vty0G3h7z31n"
      },
      "source": [
        "## **Defining the lattice.**"
      ]
    },
    {
      "cell_type": "code",
      "execution_count": null,
      "metadata": {
        "id": "Clv83eL8z9-h"
      },
      "outputs": [],
      "source": [
        "def initialize_lattice(L):\n",
        "  values = np.arange(1, L * L + 1)\n",
        "  lattice = values.reshape((L, L))\n",
        "  sval = np.random.rand(L, L)\n",
        "  pval = np.random.rand(L, L)\n",
        "  #sval = 1 - pval\n",
        "  return lattice, sval, pval"
      ]
    },
    {
      "cell_type": "markdown",
      "metadata": {
        "id": "dFonrQUo06DI"
      },
      "source": [
        "## **Latane Sim**"
      ]
    },
    {
      "cell_type": "code",
      "execution_count": null,
      "metadata": {
        "id": "Al4gebHtCzB9"
      },
      "outputs": [],
      "source": [
        "def chooseNextColour(klist):\n",
        "  \"\"\"Choose the next colour based on the probabilities.\"\"\"\n",
        "  #generate a random number between 0 and 1\n",
        "  random_number = random.random()  # Generate a random number between 0 and 1\n",
        "  cumulative_probability = 0\n",
        "  for i, probability in enumerate(klist):\n",
        "    cumulative_probability += probability\n",
        "    if random_number <= cumulative_probability:\n",
        "      return i+1\n",
        "  # If the loop completes without finding a class, return the last class\n",
        "  # This can happen due to floating-point errors\n",
        "  #return len(probabilities)"
      ]
    },
    {
      "cell_type": "code",
      "execution_count": null,
      "metadata": {
        "id": "3cBv6Nr4_F4z"
      },
      "outputs": [],
      "source": [
        "def Kdelta(a, b):\n",
        "  \"\"\"Return the Kronecker delta of two values i and j.\"\"\"\n",
        "  return 1 if a == b else 0"
      ]
    },
    {
      "cell_type": "code",
      "execution_count": null,
      "metadata": {
        "id": "6TkunYjD_3XM"
      },
      "outputs": [],
      "source": [
        "def func_g(coord1, coord2, alpha):\n",
        "  # Compute the Euclidean distance\n",
        "  dist = np.linalg.norm(np.array(coord1) - np.array(coord2))\n",
        "  # Scale the distance\n",
        "  scaled_dist = 1 + dist**alpha\n",
        "  return scaled_dist"
      ]
    },
    {
      "cell_type": "code",
      "execution_count": null,
      "metadata": {
        "id": "tGw-qZrmgiYT"
      },
      "outputs": [],
      "source": [
        "def get_prob(val, T):\n",
        "  if val ==0:\n",
        "    return 0\n",
        "  else:\n",
        "    return math.exp(val/T)"
      ]
    },
    {
      "cell_type": "code",
      "execution_count": null,
      "metadata": {
        "id": "VEMr0D2_kKXk"
      },
      "outputs": [],
      "source": [
        "def normalize_list(I_klist):\n",
        "  total_sum = sum(I_klist)\n",
        "  if total_sum == 0:  # Handle case where sum is zero to avoid division by zero\n",
        "    return [0] * len(I_klist)\n",
        "  else:\n",
        "    normalized_list = [element / total_sum for element in I_klist]\n",
        "    return normalized_list"
      ]
    },
    {
      "cell_type": "code",
      "execution_count": null,
      "metadata": {
        "id": "eDgxXgoKvthc"
      },
      "outputs": [],
      "source": [
        "def get_influence(lattice, xi, yi, k, s, p, alpha):\n",
        "  \"\"\"Update the opinion of neighbors based on the Sznajd model for a 2D lattice.\"\"\"\n",
        "  L = lattice.shape[0]\n",
        "  I = 0\n",
        "  for xj in range(L):\n",
        "    for yj in range(L):\n",
        "      sj = s[xj, yj]\n",
        "      pj = p[xj, yj]\n",
        "      if lattice[xi, yi] == lattice[xj, yj]:\n",
        "        print(f\"point i = {lattice[xi, yi]}; j = {lattice[xj, yj]} ; k = {k}; del(k,j)={Kdelta(k, lattice[xj, yj])} ; del(i,j)={Kdelta(lattice[xj, yj], lattice[xi, yi])} ; Support\")\n",
        "        I = I + ((4*sj)/func_g((xi, yi),(xj, yj), alpha))*Kdelta(k, lattice[xj, yj])*Kdelta(lattice[xj, yj], lattice[xi, yi])\n",
        "      else:\n",
        "        print(f\"point i = {lattice[xi, yi]}; j = {lattice[xj, yj]} ; k = {k}; del(k,j)={Kdelta(k, lattice[xj, yj])} ; del(i,j)={Kdelta(lattice[xj, yj], lattice[xi, yi])} ; Perssuade\")\n",
        "        I = I + ((4*pj)/func_g((xi, yi),(xj, yj), alpha))*Kdelta(k, lattice[xj, yj])*(1-Kdelta(lattice[xj, yj], lattice[xi, yi]))\n",
        "  return I"
      ]
    },
    {
      "cell_type": "code",
      "execution_count": null,
      "metadata": {
        "id": "tIrjViHEwb3d"
      },
      "outputs": [],
      "source": [
        "def lataneSimD(lattice, steps, stepSize_, s, p, alpha, temp, cmap, norm):\n",
        "  \"\"\"Run the Latane model simulation on a lattice for a given number of steps (Deterministic)\"\"\"\n",
        "  countOpinions = []\n",
        "  unique_elements_count = len(np.unique(lattice))\n",
        "  countOpinions.append(unique_elements_count)\n",
        "  L = lattice.shape[0]\n",
        "  for run in range(steps):\n",
        "    colours = np.unique(lattice)\n",
        "    print(len(colours))\n",
        "    lattice_new = copy.deepcopy(lattice)\n",
        "    for xi in range(L):\n",
        "      for yi in range(L):\n",
        "        max_I = -1\n",
        "        klist = []\n",
        "        for k in colours:\n",
        "          I_ijk = get_influence(lattice, xi, yi, k, s, p, alpha)\n",
        "          klist.append(I_ijk)\n",
        "          #print(\"\\n I_ijk = \",I_ijk)\n",
        "          if I_ijk > max_I:\n",
        "            max_I = I_ijk\n",
        "            max_k = k\n",
        "        #print(klist)\n",
        "        lattice_new[xi, yi] = max_k\n",
        "    lattice = copy.deepcopy(lattice_new)\n",
        "    unique_elements_count = len(np.unique(lattice))\n",
        "    countOpinions.append(unique_elements_count)\n",
        "    if (run+1) % stepSize_ == 0:\n",
        "      plot_opinions(lattice, title=f\"Epoch {run+1}\", cmap=cmap, norm=norm)\n",
        "    if unique_elements_count == 1:\n",
        "      print(f\"Converged after {run+1} epochs. with count {unique_elements_count}\")\n",
        "      plot_opinions(lattice, title=\"Final Opinion Distribution\")\n",
        "      return countOpinions"
      ]
    },
    {
      "cell_type": "code",
      "execution_count": null,
      "metadata": {
        "id": "5kcCwRIkhc8j"
      },
      "outputs": [],
      "source": [
        "def lataneSimP(lattice, steps, stepSize_, s, p, alpha, temp, cmap, norm):\n",
        "  \"\"\"Run the Latane model simulation on a lattice for a given number of steps (Probabilistic)\"\"\"\n",
        "  countOpinions = []\n",
        "  unique_elements_count = len(np.unique(lattice))\n",
        "  countOpinions.append(unique_elements_count)\n",
        "  L = lattice.shape[0]\n",
        "  for run in range(steps):\n",
        "    colours = np.unique(lattice)\n",
        "    print(len(colours))\n",
        "    lattice_new = copy.deepcopy(lattice)\n",
        "    for xi in range(L):\n",
        "      for yi in range(L):\n",
        "        I_klist = []\n",
        "        print(colours)\n",
        "        for k in colours:\n",
        "          I_ijk = get_influence(lattice, xi, yi, k, s, p, alpha)\n",
        "          prob_I = get_prob(I_ijk, temp)\n",
        "          I_klist.append(prob_I)\n",
        "        I_nlist = normalize_list(I_klist)\n",
        "        lattice_new[xi, yi] = chooseNextColour(I_nlist)\n",
        "    print(\"\\n Old: \\n\",lattice,\"\\n New: \\n\",lattice_new)\n",
        "    lattice = copy.deepcopy(lattice_new)\n",
        "    unique_elements_count = len(np.unique(lattice))\n",
        "    countOpinions.append(unique_elements_count)\n",
        "    if (run+1) % stepSize_ == 0:\n",
        "      plot_opinions(lattice, title=f\"Epoch {run+1}\", cmap=cmap, norm=norm)\n",
        "    if unique_elements_count == 1:\n",
        "      print(f\"Converged after {run+1} epochs. with count {unique_elements_count}\")\n",
        "      plot_opinions(lattice, title=\"Final Opinion Distribution\")\n",
        "      return countOpinions"
      ]
    },
    {
      "cell_type": "markdown",
      "source": [
        "Use the function lataneSimD for deterministic version and lataneSimP for probablistic version."
      ],
      "metadata": {
        "id": "SjcXBjAmcG9X"
      }
    },
    {
      "cell_type": "code",
      "execution_count": null,
      "metadata": {
        "id": "_QKsq39ZxSIL"
      },
      "outputs": [],
      "source": [
        "# Initialize and simulate\n",
        "L = 3 # length of side of the lattice\n",
        "epochs = 100000 # number of epochs (optional)\n",
        "stepSize = 1\n",
        "max_opinion = L * L // 2\n",
        "#max_opinion = 3\n",
        "alpha = 2\n",
        "temp = 1.5\n",
        "norm = mcolors.Normalize(vmin=1, vmax=max_opinion)\n",
        "cmap = plt.cm.viridis  # Use the viridis colormap, or change to another continuous colormap\n",
        "\n",
        "lattice, sval, pval = initialize_lattice(L)\n",
        "#lattice = np.array([[1, 2, 3], [2, 2, 2], [1, 1, 1]])\n",
        "#print(lattice)\n",
        "#sval = np.array([[0.7, 0.4, 0.1], [0.8, 0.5, 0.2], [0.9, 0.6, 0.3]])\n",
        "#pval = np.array([[0.3, 0.6, 0.9], [0.2, 0.5, 0.8], [0.1, 0.4, 0.7]])\n",
        "#print(type(lattice))\n",
        "colours = np.unique(lattice)\n",
        "print(len(colours))\n",
        "plot_opinions(lattice, title=\"Initial Opinion Distribution\", cmap=cmap, norm=norm)\n",
        "display_matrix(sval, title=\"Initial s-value Distribution\")\n",
        "display_matrix(pval, title=\"Initial p-value Distribution\")\n",
        "\n",
        "countOpinions =  lataneSimP(lattice, epochs, stepSize, sval, pval, alpha, temp, cmap=cmap, norm=norm) # for probablistic version\n",
        "#countOpinions =  lataneSimD(lattice, epochs, stepSize, sval, pval, alpha, temp, cmap=cmap, norm=norm) # for deterministic version"
      ]
    },
    {
      "cell_type": "code",
      "execution_count": null,
      "metadata": {
        "colab": {
          "base_uri": "https://localhost:8080/"
        },
        "id": "hGF_hBzIo5v2",
        "outputId": "4e379b6c-b180-4b2a-8bad-21057521a311"
      },
      "outputs": [
        {
          "data": {
            "text/plain": [
              "24"
            ]
          },
          "execution_count": 145,
          "metadata": {},
          "output_type": "execute_result"
        }
      ],
      "source": [
        "len(countOpinions)"
      ]
    },
    {
      "cell_type": "code",
      "execution_count": null,
      "metadata": {
        "colab": {
          "base_uri": "https://localhost:8080/"
        },
        "id": "KKPzlnt-rUA_",
        "outputId": "3a97a3e0-7128-4f6f-e68c-90c5442bd5a5"
      },
      "outputs": [
        {
          "data": {
            "text/plain": [
              "[23, 23, 22, 22, 20, 20, 18, 13, 5, 1]"
            ]
          },
          "execution_count": 146,
          "metadata": {},
          "output_type": "execute_result"
        }
      ],
      "source": [
        "countOpinions[-10:]"
      ]
    },
    {
      "cell_type": "code",
      "execution_count": null,
      "metadata": {
        "id": "4cmaZMQkqarO"
      },
      "outputs": [],
      "source": [
        "epochs_range = range(len(countOpinions))\n",
        "\n",
        "plt.plot(epochs_range, countOpinions)\n",
        "plt.xlabel(\"Epochs\")\n",
        "plt.ylabel(\"Number Opinions\")\n",
        "plt.title(\"Opinions vs. Epochs\")\n",
        "plt.grid(True)\n",
        "plt.show()"
      ]
    },
    {
      "cell_type": "code",
      "execution_count": null,
      "metadata": {
        "id": "4EyEBhGJyghv"
      },
      "outputs": [],
      "source": [
        "epochs_range = range(len(countOpinions))\n",
        "\n",
        "plt.figure(figsize=(10, 6))  # Adjust figure size if needed\n",
        "plt.scatter(epochs_range, countOpinions, marker='o', s=10)  # Scatter plot\n",
        "plt.xlabel(\"Epochs\")\n",
        "plt.ylabel(\"Number of Opinions\")\n",
        "plt.title(f\"Number of Opinions vs. Epochs (Log Scale) L= {L}\")\n",
        "plt.grid(True)\n",
        "\n",
        "# Set the x and y axes to log scale\n",
        "plt.xscale(\"log\")\n",
        "plt.yscale(\"log\")\n",
        "\n",
        "plt.show()"
      ]
    }
  ],
  "metadata": {
    "colab": {
      "provenance": [],
      "include_colab_link": true
    },
    "kernelspec": {
      "display_name": "Python 3",
      "name": "python3"
    },
    "language_info": {
      "name": "python"
    }
  },
  "nbformat": 4,
  "nbformat_minor": 0
}